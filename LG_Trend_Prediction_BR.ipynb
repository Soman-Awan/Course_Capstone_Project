{
  "nbformat": 4,
  "nbformat_minor": 0,
  "metadata": {
    "colab": {
      "name": "LG_Trend Prediction_BR.ipynb",
      "provenance": [],
      "collapsed_sections": [],
      "authorship_tag": "ABX9TyNq8vC9R1Bu+75IgkEkqMTH",
      "include_colab_link": true
    },
    "kernelspec": {
      "name": "python3",
      "display_name": "Python 3"
    },
    "language_info": {
      "name": "python"
    }
  },
  "cells": [
    {
      "cell_type": "markdown",
      "metadata": {
        "id": "view-in-github",
        "colab_type": "text"
      },
      "source": [
        "<a href=\"https://colab.research.google.com/github/Soman-Awan/Course_Capstone_Project/blob/master/LG_Trend_Prediction_BR.ipynb\" target=\"_parent\"><img src=\"https://colab.research.google.com/assets/colab-badge.svg\" alt=\"Open In Colab\"/></a>"
      ]
    },
    {
      "cell_type": "markdown",
      "source": [
        "A simple code sheet to get the Logistic Regression Based task for BR. Please change the variables under consideration for not same results.\n",
        "Soman"
      ],
      "metadata": {
        "id": "rOUyg1Q17Emn"
      }
    },
    {
      "cell_type": "code",
      "execution_count": 1,
      "metadata": {
        "id": "Y9d_lMx__YUJ"
      },
      "outputs": [],
      "source": [
        "#Importing Important Libraries\n",
        "import pandas as pd\n",
        "import numpy as np\n",
        "import matplotlib.pyplot as plt\n",
        "import seaborn as sns\n",
        "import matplotlib as mpl"
      ]
    },
    {
      "cell_type": "code",
      "source": [
        "#Setting Whitegrid as white\n",
        "%matplotlib inline\n",
        "sns.set_style('whitegrid')\n",
        "%matplotlib inline\n",
        "plt.style.use('seaborn-whitegrid')\n",
        "plt.rcParams['figure.figsize'] = [12, 6]"
      ],
      "metadata": {
        "id": "pV4uj1MV_Zkw"
      },
      "execution_count": 2,
      "outputs": []
    },
    {
      "cell_type": "code",
      "source": [
        "from google.colab import drive\n",
        "drive.mount('/content/drive')"
      ],
      "metadata": {
        "colab": {
          "base_uri": "https://localhost:8080/"
        },
        "id": "yeLFA_XN_ZnI",
        "outputId": "7af061e3-ac6e-4ce1-e635-535cb7245a61"
      },
      "execution_count": 3,
      "outputs": [
        {
          "output_type": "stream",
          "name": "stdout",
          "text": [
            "Drive already mounted at /content/drive; to attempt to forcibly remount, call drive.mount(\"/content/drive\", force_remount=True).\n"
          ]
        }
      ]
    },
    {
      "cell_type": "code",
      "source": [
        "#Reading xlsx FILE\n",
        "df = pd.read_excel('/content/drive/My Drive/Project_Seminar/TrainBRSocial.xlsx')"
      ],
      "metadata": {
        "id": "CAuye3MI_Zpc"
      },
      "execution_count": 4,
      "outputs": []
    },
    {
      "cell_type": "code",
      "source": [
        "#CHECKING DATA IN TABULATED FORM\n",
        "df.head()"
      ],
      "metadata": {
        "colab": {
          "base_uri": "https://localhost:8080/",
          "height": 704
        },
        "id": "rGCZ1l2p_Zrw",
        "outputId": "39ac61dc-dd9d-464c-a533-a7ffeb2d6ef8"
      },
      "execution_count": 5,
      "outputs": [
        {
          "output_type": "execute_result",
          "data": {
            "text/html": [
              "\n",
              "  <div id=\"df-6a2a7e49-7ef6-4b7e-8332-269144a8a213\">\n",
              "    <div class=\"colab-df-container\">\n",
              "      <div>\n",
              "<style scoped>\n",
              "    .dataframe tbody tr th:only-of-type {\n",
              "        vertical-align: middle;\n",
              "    }\n",
              "\n",
              "    .dataframe tbody tr th {\n",
              "        vertical-align: top;\n",
              "    }\n",
              "\n",
              "    .dataframe thead th {\n",
              "        text-align: right;\n",
              "    }\n",
              "</style>\n",
              "<table border=\"1\" class=\"dataframe\">\n",
              "  <thead>\n",
              "    <tr style=\"text-align: right;\">\n",
              "      <th></th>\n",
              "      <th>Unnamed: 0</th>\n",
              "      <th>Unnamed: 0.1</th>\n",
              "      <th>Keywords</th>\n",
              "      <th>Years</th>\n",
              "      <th>Months</th>\n",
              "      <th>impact_blog</th>\n",
              "      <th>impact_forum</th>\n",
              "      <th>impact_general</th>\n",
              "      <th>impact_image</th>\n",
              "      <th>impact_instagram</th>\n",
              "      <th>impact_news</th>\n",
              "      <th>impact_review</th>\n",
              "      <th>impact_twitter</th>\n",
              "      <th>impact_video</th>\n",
              "      <th>twitter retweets</th>\n",
              "      <th>instagram likes</th>\n",
              "      <th>sentiment_negative</th>\n",
              "      <th>sentiment_neutral</th>\n",
              "      <th>sentiment_positive</th>\n",
              "      <th>full text</th>\n",
              "      <th>hashtags</th>\n",
              "      <th>media urls</th>\n",
              "      <th>country</th>\n",
              "      <th>trend</th>\n",
              "      <th>category</th>\n",
              "    </tr>\n",
              "  </thead>\n",
              "  <tbody>\n",
              "    <tr>\n",
              "      <th>0</th>\n",
              "      <td>0</td>\n",
              "      <td>2</td>\n",
              "      <td>Avocado face pack</td>\n",
              "      <td>2015</td>\n",
              "      <td>8</td>\n",
              "      <td>66</td>\n",
              "      <td>20</td>\n",
              "      <td>0</td>\n",
              "      <td>NaN</td>\n",
              "      <td>0.0</td>\n",
              "      <td>166</td>\n",
              "      <td>0</td>\n",
              "      <td>94</td>\n",
              "      <td>0</td>\n",
              "      <td>0</td>\n",
              "      <td>0</td>\n",
              "      <td>0</td>\n",
              "      <td>5</td>\n",
              "      <td>2</td>\n",
              "      <td>['...aplicada. \"Já a vitamina E, também presen...</td>\n",
              "      <td>['[]', '[]', '[]', '[]', '[]', '[]', '[]']</td>\n",
              "      <td>['[]', '[]', '[]', '[]', '[]', '[]', '[]']</td>\n",
              "      <td>BR</td>\n",
              "      <td>nontrend</td>\n",
              "      <td>smallc</td>\n",
              "    </tr>\n",
              "    <tr>\n",
              "      <th>1</th>\n",
              "      <td>1</td>\n",
              "      <td>3</td>\n",
              "      <td>Avocado face pack</td>\n",
              "      <td>2015</td>\n",
              "      <td>9</td>\n",
              "      <td>0</td>\n",
              "      <td>20</td>\n",
              "      <td>0</td>\n",
              "      <td>NaN</td>\n",
              "      <td>0.0</td>\n",
              "      <td>0</td>\n",
              "      <td>0</td>\n",
              "      <td>0</td>\n",
              "      <td>0</td>\n",
              "      <td>0</td>\n",
              "      <td>0</td>\n",
              "      <td>0</td>\n",
              "      <td>0</td>\n",
              "      <td>1</td>\n",
              "      <td>['Tem que amar em qualquer situação, não é mes...</td>\n",
              "      <td>['[]']</td>\n",
              "      <td>['[]']</td>\n",
              "      <td>BR</td>\n",
              "      <td>nontrend</td>\n",
              "      <td>smallc</td>\n",
              "    </tr>\n",
              "    <tr>\n",
              "      <th>2</th>\n",
              "      <td>2</td>\n",
              "      <td>4</td>\n",
              "      <td>Avocado face pack</td>\n",
              "      <td>2015</td>\n",
              "      <td>12</td>\n",
              "      <td>0</td>\n",
              "      <td>0</td>\n",
              "      <td>0</td>\n",
              "      <td>NaN</td>\n",
              "      <td>0.0</td>\n",
              "      <td>0</td>\n",
              "      <td>0</td>\n",
              "      <td>50</td>\n",
              "      <td>0</td>\n",
              "      <td>0</td>\n",
              "      <td>0</td>\n",
              "      <td>0</td>\n",
              "      <td>1</td>\n",
              "      <td>0</td>\n",
              "      <td>['Hoje foi day spa com as sobrinhas. Mascara d...</td>\n",
              "      <td>['[]']</td>\n",
              "      <td>['[]']</td>\n",
              "      <td>BR</td>\n",
              "      <td>nontrend</td>\n",
              "      <td>smallc</td>\n",
              "    </tr>\n",
              "    <tr>\n",
              "      <th>3</th>\n",
              "      <td>3</td>\n",
              "      <td>5</td>\n",
              "      <td>Avocado face pack</td>\n",
              "      <td>2016</td>\n",
              "      <td>2</td>\n",
              "      <td>0</td>\n",
              "      <td>0</td>\n",
              "      <td>0</td>\n",
              "      <td>NaN</td>\n",
              "      <td>0.0</td>\n",
              "      <td>52</td>\n",
              "      <td>0</td>\n",
              "      <td>46</td>\n",
              "      <td>0</td>\n",
              "      <td>0</td>\n",
              "      <td>0</td>\n",
              "      <td>0</td>\n",
              "      <td>2</td>\n",
              "      <td>0</td>\n",
              "      <td>['...em seguida aplique sobre a pele. Massagei...</td>\n",
              "      <td>['[]', '[]']</td>\n",
              "      <td>['[]', '[]']</td>\n",
              "      <td>BR</td>\n",
              "      <td>nontrend</td>\n",
              "      <td>smallc</td>\n",
              "    </tr>\n",
              "    <tr>\n",
              "      <th>4</th>\n",
              "      <td>4</td>\n",
              "      <td>6</td>\n",
              "      <td>Avocado face pack</td>\n",
              "      <td>2016</td>\n",
              "      <td>3</td>\n",
              "      <td>0</td>\n",
              "      <td>0</td>\n",
              "      <td>0</td>\n",
              "      <td>NaN</td>\n",
              "      <td>0.0</td>\n",
              "      <td>0</td>\n",
              "      <td>0</td>\n",
              "      <td>123</td>\n",
              "      <td>0</td>\n",
              "      <td>0</td>\n",
              "      <td>0</td>\n",
              "      <td>0</td>\n",
              "      <td>2</td>\n",
              "      <td>1</td>\n",
              "      <td>['@poxajm da pra faze máscara com abacate e me...</td>\n",
              "      <td>['[]', '[]', '[]']</td>\n",
              "      <td>['[]', '[]', '[]']</td>\n",
              "      <td>BR</td>\n",
              "      <td>nontrend</td>\n",
              "      <td>smallc</td>\n",
              "    </tr>\n",
              "  </tbody>\n",
              "</table>\n",
              "</div>\n",
              "      <button class=\"colab-df-convert\" onclick=\"convertToInteractive('df-6a2a7e49-7ef6-4b7e-8332-269144a8a213')\"\n",
              "              title=\"Convert this dataframe to an interactive table.\"\n",
              "              style=\"display:none;\">\n",
              "        \n",
              "  <svg xmlns=\"http://www.w3.org/2000/svg\" height=\"24px\"viewBox=\"0 0 24 24\"\n",
              "       width=\"24px\">\n",
              "    <path d=\"M0 0h24v24H0V0z\" fill=\"none\"/>\n",
              "    <path d=\"M18.56 5.44l.94 2.06.94-2.06 2.06-.94-2.06-.94-.94-2.06-.94 2.06-2.06.94zm-11 1L8.5 8.5l.94-2.06 2.06-.94-2.06-.94L8.5 2.5l-.94 2.06-2.06.94zm10 10l.94 2.06.94-2.06 2.06-.94-2.06-.94-.94-2.06-.94 2.06-2.06.94z\"/><path d=\"M17.41 7.96l-1.37-1.37c-.4-.4-.92-.59-1.43-.59-.52 0-1.04.2-1.43.59L10.3 9.45l-7.72 7.72c-.78.78-.78 2.05 0 2.83L4 21.41c.39.39.9.59 1.41.59.51 0 1.02-.2 1.41-.59l7.78-7.78 2.81-2.81c.8-.78.8-2.07 0-2.86zM5.41 20L4 18.59l7.72-7.72 1.47 1.35L5.41 20z\"/>\n",
              "  </svg>\n",
              "      </button>\n",
              "      \n",
              "  <style>\n",
              "    .colab-df-container {\n",
              "      display:flex;\n",
              "      flex-wrap:wrap;\n",
              "      gap: 12px;\n",
              "    }\n",
              "\n",
              "    .colab-df-convert {\n",
              "      background-color: #E8F0FE;\n",
              "      border: none;\n",
              "      border-radius: 50%;\n",
              "      cursor: pointer;\n",
              "      display: none;\n",
              "      fill: #1967D2;\n",
              "      height: 32px;\n",
              "      padding: 0 0 0 0;\n",
              "      width: 32px;\n",
              "    }\n",
              "\n",
              "    .colab-df-convert:hover {\n",
              "      background-color: #E2EBFA;\n",
              "      box-shadow: 0px 1px 2px rgba(60, 64, 67, 0.3), 0px 1px 3px 1px rgba(60, 64, 67, 0.15);\n",
              "      fill: #174EA6;\n",
              "    }\n",
              "\n",
              "    [theme=dark] .colab-df-convert {\n",
              "      background-color: #3B4455;\n",
              "      fill: #D2E3FC;\n",
              "    }\n",
              "\n",
              "    [theme=dark] .colab-df-convert:hover {\n",
              "      background-color: #434B5C;\n",
              "      box-shadow: 0px 1px 3px 1px rgba(0, 0, 0, 0.15);\n",
              "      filter: drop-shadow(0px 1px 2px rgba(0, 0, 0, 0.3));\n",
              "      fill: #FFFFFF;\n",
              "    }\n",
              "  </style>\n",
              "\n",
              "      <script>\n",
              "        const buttonEl =\n",
              "          document.querySelector('#df-6a2a7e49-7ef6-4b7e-8332-269144a8a213 button.colab-df-convert');\n",
              "        buttonEl.style.display =\n",
              "          google.colab.kernel.accessAllowed ? 'block' : 'none';\n",
              "\n",
              "        async function convertToInteractive(key) {\n",
              "          const element = document.querySelector('#df-6a2a7e49-7ef6-4b7e-8332-269144a8a213');\n",
              "          const dataTable =\n",
              "            await google.colab.kernel.invokeFunction('convertToInteractive',\n",
              "                                                     [key], {});\n",
              "          if (!dataTable) return;\n",
              "\n",
              "          const docLinkHtml = 'Like what you see? Visit the ' +\n",
              "            '<a target=\"_blank\" href=https://colab.research.google.com/notebooks/data_table.ipynb>data table notebook</a>'\n",
              "            + ' to learn more about interactive tables.';\n",
              "          element.innerHTML = '';\n",
              "          dataTable['output_type'] = 'display_data';\n",
              "          await google.colab.output.renderOutput(dataTable, element);\n",
              "          const docLink = document.createElement('div');\n",
              "          docLink.innerHTML = docLinkHtml;\n",
              "          element.appendChild(docLink);\n",
              "        }\n",
              "      </script>\n",
              "    </div>\n",
              "  </div>\n",
              "  "
            ],
            "text/plain": [
              "   Unnamed: 0  Unnamed: 0.1           Keywords  ...  country     trend  category\n",
              "0           0             2  Avocado face pack  ...       BR  nontrend    smallc\n",
              "1           1             3  Avocado face pack  ...       BR  nontrend    smallc\n",
              "2           2             4  Avocado face pack  ...       BR  nontrend    smallc\n",
              "3           3             5  Avocado face pack  ...       BR  nontrend    smallc\n",
              "4           4             6  Avocado face pack  ...       BR  nontrend    smallc\n",
              "\n",
              "[5 rows x 25 columns]"
            ]
          },
          "metadata": {},
          "execution_count": 5
        }
      ]
    },
    {
      "cell_type": "code",
      "source": [
        "#Checking if there is any list columns with its name which contain missing values\n",
        "[col for col in df.columns if df[col].isnull().any()]"
      ],
      "metadata": {
        "colab": {
          "base_uri": "https://localhost:8080/"
        },
        "id": "wxwXok35_Zwd",
        "outputId": "f7672c2d-584a-4f97-cacf-21e39f3e4cc5"
      },
      "execution_count": 6,
      "outputs": [
        {
          "output_type": "execute_result",
          "data": {
            "text/plain": [
              "['Keywords', 'impact_image', 'impact_instagram']"
            ]
          },
          "metadata": {},
          "execution_count": 6
        }
      ]
    },
    {
      "cell_type": "code",
      "source": [
        "#store number of missing values per column as Series object as GM1\n",
        "df1 = df.isnull().sum()\n",
        "\n",
        "#filter out and sort columns with missing value\n",
        "df1[df1>=0].sort_values(ascending=False)"
      ],
      "metadata": {
        "colab": {
          "base_uri": "https://localhost:8080/"
        },
        "id": "RMV_tNYcDP2j",
        "outputId": "c5693029-8075-4f38-fed3-80b771dbc38b"
      },
      "execution_count": 7,
      "outputs": [
        {
          "output_type": "execute_result",
          "data": {
            "text/plain": [
              "impact_instagram      6024\n",
              "impact_image           791\n",
              "Keywords                52\n",
              "category                 0\n",
              "impact_review            0\n",
              "Unnamed: 0.1             0\n",
              "Years                    0\n",
              "Months                   0\n",
              "impact_blog              0\n",
              "impact_forum             0\n",
              "impact_general           0\n",
              "impact_news              0\n",
              "impact_twitter           0\n",
              "trend                    0\n",
              "impact_video             0\n",
              "twitter retweets         0\n",
              "instagram likes          0\n",
              "sentiment_negative       0\n",
              "sentiment_neutral        0\n",
              "sentiment_positive       0\n",
              "full text                0\n",
              "hashtags                 0\n",
              "media urls               0\n",
              "country                  0\n",
              "Unnamed: 0               0\n",
              "dtype: int64"
            ]
          },
          "metadata": {},
          "execution_count": 7
        }
      ]
    },
    {
      "cell_type": "code",
      "source": [
        "##We want to see the columns which has atleast 7000 and above observations \n",
        "GMM = df.dropna(axis='columns', thresh = 7000)"
      ],
      "metadata": {
        "id": "q-OADZAfCKyk"
      },
      "execution_count": 8,
      "outputs": []
    },
    {
      "cell_type": "code",
      "source": [
        "GMM.info()"
      ],
      "metadata": {
        "colab": {
          "base_uri": "https://localhost:8080/"
        },
        "id": "ZqjKPilpLTgC",
        "outputId": "f6723a5c-6e25-478b-cc0f-1d7c29984f5c"
      },
      "execution_count": 9,
      "outputs": [
        {
          "output_type": "stream",
          "name": "stdout",
          "text": [
            "<class 'pandas.core.frame.DataFrame'>\n",
            "RangeIndex: 7834 entries, 0 to 7833\n",
            "Data columns (total 24 columns):\n",
            " #   Column              Non-Null Count  Dtype  \n",
            "---  ------              --------------  -----  \n",
            " 0   Unnamed: 0          7834 non-null   int64  \n",
            " 1   Unnamed: 0.1        7834 non-null   int64  \n",
            " 2   Keywords            7782 non-null   object \n",
            " 3   Years               7834 non-null   int64  \n",
            " 4   Months              7834 non-null   int64  \n",
            " 5   impact_blog         7834 non-null   int64  \n",
            " 6   impact_forum        7834 non-null   int64  \n",
            " 7   impact_general      7834 non-null   int64  \n",
            " 8   impact_image        7043 non-null   float64\n",
            " 9   impact_news         7834 non-null   int64  \n",
            " 10  impact_review       7834 non-null   int64  \n",
            " 11  impact_twitter      7834 non-null   int64  \n",
            " 12  impact_video        7834 non-null   int64  \n",
            " 13  twitter retweets    7834 non-null   int64  \n",
            " 14  instagram likes     7834 non-null   int64  \n",
            " 15  sentiment_negative  7834 non-null   int64  \n",
            " 16  sentiment_neutral   7834 non-null   int64  \n",
            " 17  sentiment_positive  7834 non-null   int64  \n",
            " 18  full text           7834 non-null   object \n",
            " 19  hashtags            7834 non-null   object \n",
            " 20  media urls          7834 non-null   object \n",
            " 21  country             7834 non-null   object \n",
            " 22  trend               7834 non-null   object \n",
            " 23  category            7834 non-null   object \n",
            "dtypes: float64(1), int64(16), object(7)\n",
            "memory usage: 1.4+ MB\n"
          ]
        }
      ]
    },
    {
      "cell_type": "code",
      "source": [
        "GMM1 = GMM.dropna(subset=['Keywords'])\n",
        "GMM1.info()"
      ],
      "metadata": {
        "colab": {
          "base_uri": "https://localhost:8080/"
        },
        "id": "Aoo80KWeLN8H",
        "outputId": "19a1fb9f-89c5-47b1-d9b3-1fd5d7e0d19a"
      },
      "execution_count": 10,
      "outputs": [
        {
          "output_type": "stream",
          "name": "stdout",
          "text": [
            "<class 'pandas.core.frame.DataFrame'>\n",
            "Int64Index: 7782 entries, 0 to 7833\n",
            "Data columns (total 24 columns):\n",
            " #   Column              Non-Null Count  Dtype  \n",
            "---  ------              --------------  -----  \n",
            " 0   Unnamed: 0          7782 non-null   int64  \n",
            " 1   Unnamed: 0.1        7782 non-null   int64  \n",
            " 2   Keywords            7782 non-null   object \n",
            " 3   Years               7782 non-null   int64  \n",
            " 4   Months              7782 non-null   int64  \n",
            " 5   impact_blog         7782 non-null   int64  \n",
            " 6   impact_forum        7782 non-null   int64  \n",
            " 7   impact_general      7782 non-null   int64  \n",
            " 8   impact_image        6991 non-null   float64\n",
            " 9   impact_news         7782 non-null   int64  \n",
            " 10  impact_review       7782 non-null   int64  \n",
            " 11  impact_twitter      7782 non-null   int64  \n",
            " 12  impact_video        7782 non-null   int64  \n",
            " 13  twitter retweets    7782 non-null   int64  \n",
            " 14  instagram likes     7782 non-null   int64  \n",
            " 15  sentiment_negative  7782 non-null   int64  \n",
            " 16  sentiment_neutral   7782 non-null   int64  \n",
            " 17  sentiment_positive  7782 non-null   int64  \n",
            " 18  full text           7782 non-null   object \n",
            " 19  hashtags            7782 non-null   object \n",
            " 20  media urls          7782 non-null   object \n",
            " 21  country             7782 non-null   object \n",
            " 22  trend               7782 non-null   object \n",
            " 23  category            7782 non-null   object \n",
            "dtypes: float64(1), int64(16), object(7)\n",
            "memory usage: 1.5+ MB\n"
          ]
        }
      ]
    },
    {
      "cell_type": "code",
      "source": [
        "#Verifying if we have any missing figures & Changing data type\n",
        "GMM1 = GMM1.fillna(0)\n",
        "GMM1['impact_image'] = GMM1['impact_image'].astype('int')\n",
        "GMM1.info()"
      ],
      "metadata": {
        "colab": {
          "base_uri": "https://localhost:8080/"
        },
        "id": "VTJ51zQZCK3Z",
        "outputId": "3d0ec6a2-41ea-4eaf-ffad-90c84b26fa8f"
      },
      "execution_count": 11,
      "outputs": [
        {
          "output_type": "stream",
          "name": "stdout",
          "text": [
            "<class 'pandas.core.frame.DataFrame'>\n",
            "Int64Index: 7782 entries, 0 to 7833\n",
            "Data columns (total 24 columns):\n",
            " #   Column              Non-Null Count  Dtype \n",
            "---  ------              --------------  ----- \n",
            " 0   Unnamed: 0          7782 non-null   int64 \n",
            " 1   Unnamed: 0.1        7782 non-null   int64 \n",
            " 2   Keywords            7782 non-null   object\n",
            " 3   Years               7782 non-null   int64 \n",
            " 4   Months              7782 non-null   int64 \n",
            " 5   impact_blog         7782 non-null   int64 \n",
            " 6   impact_forum        7782 non-null   int64 \n",
            " 7   impact_general      7782 non-null   int64 \n",
            " 8   impact_image        7782 non-null   int64 \n",
            " 9   impact_news         7782 non-null   int64 \n",
            " 10  impact_review       7782 non-null   int64 \n",
            " 11  impact_twitter      7782 non-null   int64 \n",
            " 12  impact_video        7782 non-null   int64 \n",
            " 13  twitter retweets    7782 non-null   int64 \n",
            " 14  instagram likes     7782 non-null   int64 \n",
            " 15  sentiment_negative  7782 non-null   int64 \n",
            " 16  sentiment_neutral   7782 non-null   int64 \n",
            " 17  sentiment_positive  7782 non-null   int64 \n",
            " 18  full text           7782 non-null   object\n",
            " 19  hashtags            7782 non-null   object\n",
            " 20  media urls          7782 non-null   object\n",
            " 21  country             7782 non-null   object\n",
            " 22  trend               7782 non-null   object\n",
            " 23  category            7782 non-null   object\n",
            "dtypes: int64(17), object(7)\n",
            "memory usage: 1.5+ MB\n"
          ]
        }
      ]
    },
    {
      "cell_type": "code",
      "source": [
        "# Drop the 'Unnamed: 0', 'Unnamed: 0.1', 'full text', 'hashtags' and 'media urls' columns\n",
        "GMM1.drop(['Unnamed: 0', 'Unnamed: 0.1', 'full text', 'hashtags', 'media urls'], axis='columns', inplace=True)\n",
        "GMM1.info()"
      ],
      "metadata": {
        "colab": {
          "base_uri": "https://localhost:8080/"
        },
        "id": "1aLi0qaSCK74",
        "outputId": "606fb2e7-daad-45e4-bf0a-144415b5469e"
      },
      "execution_count": 12,
      "outputs": [
        {
          "output_type": "stream",
          "name": "stdout",
          "text": [
            "<class 'pandas.core.frame.DataFrame'>\n",
            "Int64Index: 7782 entries, 0 to 7833\n",
            "Data columns (total 19 columns):\n",
            " #   Column              Non-Null Count  Dtype \n",
            "---  ------              --------------  ----- \n",
            " 0   Keywords            7782 non-null   object\n",
            " 1   Years               7782 non-null   int64 \n",
            " 2   Months              7782 non-null   int64 \n",
            " 3   impact_blog         7782 non-null   int64 \n",
            " 4   impact_forum        7782 non-null   int64 \n",
            " 5   impact_general      7782 non-null   int64 \n",
            " 6   impact_image        7782 non-null   int64 \n",
            " 7   impact_news         7782 non-null   int64 \n",
            " 8   impact_review       7782 non-null   int64 \n",
            " 9   impact_twitter      7782 non-null   int64 \n",
            " 10  impact_video        7782 non-null   int64 \n",
            " 11  twitter retweets    7782 non-null   int64 \n",
            " 12  instagram likes     7782 non-null   int64 \n",
            " 13  sentiment_negative  7782 non-null   int64 \n",
            " 14  sentiment_neutral   7782 non-null   int64 \n",
            " 15  sentiment_positive  7782 non-null   int64 \n",
            " 16  country             7782 non-null   object\n",
            " 17  trend               7782 non-null   object\n",
            " 18  category            7782 non-null   object\n",
            "dtypes: int64(15), object(4)\n",
            "memory usage: 1.2+ MB\n"
          ]
        }
      ]
    },
    {
      "cell_type": "code",
      "source": [
        "# converting to binary data with column trend\n",
        "GMM3 = pd.get_dummies(GMM1, columns=['trend'])\n",
        "GMM3.info()"
      ],
      "metadata": {
        "colab": {
          "base_uri": "https://localhost:8080/"
        },
        "id": "umFF8I3dCLAi",
        "outputId": "0d8069c1-4e15-4324-d444-adfbc94f2dff"
      },
      "execution_count": 13,
      "outputs": [
        {
          "output_type": "stream",
          "name": "stdout",
          "text": [
            "<class 'pandas.core.frame.DataFrame'>\n",
            "Int64Index: 7782 entries, 0 to 7833\n",
            "Data columns (total 20 columns):\n",
            " #   Column              Non-Null Count  Dtype \n",
            "---  ------              --------------  ----- \n",
            " 0   Keywords            7782 non-null   object\n",
            " 1   Years               7782 non-null   int64 \n",
            " 2   Months              7782 non-null   int64 \n",
            " 3   impact_blog         7782 non-null   int64 \n",
            " 4   impact_forum        7782 non-null   int64 \n",
            " 5   impact_general      7782 non-null   int64 \n",
            " 6   impact_image        7782 non-null   int64 \n",
            " 7   impact_news         7782 non-null   int64 \n",
            " 8   impact_review       7782 non-null   int64 \n",
            " 9   impact_twitter      7782 non-null   int64 \n",
            " 10  impact_video        7782 non-null   int64 \n",
            " 11  twitter retweets    7782 non-null   int64 \n",
            " 12  instagram likes     7782 non-null   int64 \n",
            " 13  sentiment_negative  7782 non-null   int64 \n",
            " 14  sentiment_neutral   7782 non-null   int64 \n",
            " 15  sentiment_positive  7782 non-null   int64 \n",
            " 16  country             7782 non-null   object\n",
            " 17  category            7782 non-null   object\n",
            " 18  trend_nontrend      7782 non-null   uint8 \n",
            " 19  trend_trend         7782 non-null   uint8 \n",
            "dtypes: int64(15), object(3), uint8(2)\n",
            "memory usage: 1.1+ MB\n"
          ]
        }
      ]
    },
    {
      "cell_type": "code",
      "source": [
        "GMM4 = GMM3.rename(columns = {'trend_trend': 'trend', 'trend_nontrend': 'nontrend'}, inplace = False)\n",
        "GMM4.info()"
      ],
      "metadata": {
        "colab": {
          "base_uri": "https://localhost:8080/"
        },
        "id": "3Q5NwGVXCLC6",
        "outputId": "b7e2eaf4-aa8d-447e-911b-8b4b127a3001"
      },
      "execution_count": 14,
      "outputs": [
        {
          "output_type": "stream",
          "name": "stdout",
          "text": [
            "<class 'pandas.core.frame.DataFrame'>\n",
            "Int64Index: 7782 entries, 0 to 7833\n",
            "Data columns (total 20 columns):\n",
            " #   Column              Non-Null Count  Dtype \n",
            "---  ------              --------------  ----- \n",
            " 0   Keywords            7782 non-null   object\n",
            " 1   Years               7782 non-null   int64 \n",
            " 2   Months              7782 non-null   int64 \n",
            " 3   impact_blog         7782 non-null   int64 \n",
            " 4   impact_forum        7782 non-null   int64 \n",
            " 5   impact_general      7782 non-null   int64 \n",
            " 6   impact_image        7782 non-null   int64 \n",
            " 7   impact_news         7782 non-null   int64 \n",
            " 8   impact_review       7782 non-null   int64 \n",
            " 9   impact_twitter      7782 non-null   int64 \n",
            " 10  impact_video        7782 non-null   int64 \n",
            " 11  twitter retweets    7782 non-null   int64 \n",
            " 12  instagram likes     7782 non-null   int64 \n",
            " 13  sentiment_negative  7782 non-null   int64 \n",
            " 14  sentiment_neutral   7782 non-null   int64 \n",
            " 15  sentiment_positive  7782 non-null   int64 \n",
            " 16  country             7782 non-null   object\n",
            " 17  category            7782 non-null   object\n",
            " 18  nontrend            7782 non-null   uint8 \n",
            " 19  trend               7782 non-null   uint8 \n",
            "dtypes: int64(15), object(3), uint8(2)\n",
            "memory usage: 1.1+ MB\n"
          ]
        }
      ]
    },
    {
      "cell_type": "code",
      "source": [
        "#EVERYTHING IS GOOD HERE##"
      ],
      "metadata": {
        "id": "zw2NlttJoM7p"
      },
      "execution_count": 15,
      "outputs": []
    },
    {
      "cell_type": "code",
      "source": [
        "##Please to change and have different results, drop some extra variables here to avoid copying please)\n",
        "X = GMM4.drop(['trend', 'nontrend', 'country', 'category', 'Keywords'], axis=1)\n",
        "y = GMM4.trend\n",
        "\n",
        "print(f\"'X' shape: {X.shape}\")\n",
        "print(f\"'y' shape: {y.shape}\")"
      ],
      "metadata": {
        "colab": {
          "base_uri": "https://localhost:8080/"
        },
        "id": "X3628D49och1",
        "outputId": "18e9f601-f649-421b-f594-ca77dcb4974c"
      },
      "execution_count": 16,
      "outputs": [
        {
          "output_type": "stream",
          "name": "stdout",
          "text": [
            "'X' shape: (7782, 15)\n",
            "'y' shape: (7782,)\n"
          ]
        }
      ]
    },
    {
      "cell_type": "code",
      "source": [
        "X_train = X\n",
        "y_train = y"
      ],
      "metadata": {
        "id": "k1ihpq8Roi5M"
      },
      "execution_count": 17,
      "outputs": []
    },
    {
      "cell_type": "code",
      "source": [
        "# split X and y into training and testing sets\n",
        "##Change this please test_size <0.2-0.4> random_state <0-5>\n",
        "from sklearn.model_selection import train_test_split\n",
        "\n",
        "X_train,X_test,y_train,y_test=train_test_split(X,y,test_size=0.25,random_state=0)"
      ],
      "metadata": {
        "id": "-j61qXO7oM2U"
      },
      "execution_count": 18,
      "outputs": []
    },
    {
      "cell_type": "code",
      "source": [
        "# import the class\n",
        "from sklearn.linear_model import LogisticRegression\n",
        "\n",
        "# instantiate the model (using max iteration) | You can change iterations to get different results\n",
        "logreg = LogisticRegression(max_iter=3000)\n",
        "\n",
        "# fit the model with data\n",
        "logreg.fit(X_train,y_train)\n",
        "\n",
        "#\n",
        "y_pred=logreg.predict(X_test)"
      ],
      "metadata": {
        "id": "fNhY8_3CoMx3"
      },
      "execution_count": 19,
      "outputs": []
    },
    {
      "cell_type": "code",
      "source": [
        "# import the metrics class\n",
        "from sklearn import metrics\n",
        "cnf_matrix = metrics.confusion_matrix(y_test, y_pred)\n",
        "cnf_matrix"
      ],
      "metadata": {
        "colab": {
          "base_uri": "https://localhost:8080/"
        },
        "id": "R29Skmq3oMu7",
        "outputId": "3aeb7c2a-5361-4796-e35f-b59a9a8a4925"
      },
      "execution_count": 20,
      "outputs": [
        {
          "output_type": "execute_result",
          "data": {
            "text/plain": [
              "array([[189, 746],\n",
              "       [127, 884]])"
            ]
          },
          "metadata": {},
          "execution_count": 20
        }
      ]
    },
    {
      "cell_type": "code",
      "source": [
        "print(\"Accuracy:\",metrics.accuracy_score(y_test, y_pred))\n",
        "print(\"Precision:\",metrics.precision_score(y_test, y_pred))\n",
        "print(\"Recall:\",metrics.recall_score(y_test, y_pred))"
      ],
      "metadata": {
        "colab": {
          "base_uri": "https://localhost:8080/"
        },
        "id": "8IrtHjKQoMqB",
        "outputId": "c04007e0-46bb-4231-f736-e47d2e5d9343"
      },
      "execution_count": 21,
      "outputs": [
        {
          "output_type": "stream",
          "name": "stdout",
          "text": [
            "Accuracy: 0.5513874614594039\n",
            "Precision: 0.5423312883435583\n",
            "Recall: 0.874381800197824\n"
          ]
        }
      ]
    },
    {
      "cell_type": "markdown",
      "source": [
        "Now Making Predictions on New Data Set - Holdout"
      ],
      "metadata": {
        "id": "Cfrvz0yE16t-"
      }
    },
    {
      "cell_type": "code",
      "source": [
        "#Now Loading Test Data\n",
        "#Reading xlsx FILE\n",
        "cf = pd.read_excel('/content/drive/My Drive/Project_Seminar/Test/HoldoutBRSocial.xlsx')\n",
        "cf.info()"
      ],
      "metadata": {
        "id": "V0ILeicDXxV0",
        "colab": {
          "base_uri": "https://localhost:8080/"
        },
        "outputId": "3f9080d8-ea51-47b2-e883-45f3d438d6a3"
      },
      "execution_count": 22,
      "outputs": [
        {
          "output_type": "stream",
          "name": "stdout",
          "text": [
            "<class 'pandas.core.frame.DataFrame'>\n",
            "RangeIndex: 2776 entries, 0 to 2775\n",
            "Data columns (total 23 columns):\n",
            " #   Column              Non-Null Count  Dtype  \n",
            "---  ------              --------------  -----  \n",
            " 0   Unnamed: 0          2776 non-null   int64  \n",
            " 1   Keywords            2776 non-null   object \n",
            " 2   Years               2776 non-null   int64  \n",
            " 3   Months              2776 non-null   int64  \n",
            " 4   impact_blog         2776 non-null   int64  \n",
            " 5   impact_forum        2776 non-null   int64  \n",
            " 6   impact_general      2776 non-null   int64  \n",
            " 7   impact_image        2557 non-null   float64\n",
            " 8   impact_instagram    573 non-null    float64\n",
            " 9   impact_news         2776 non-null   int64  \n",
            " 10  impact_review       2776 non-null   int64  \n",
            " 11  impact_twitter      2776 non-null   int64  \n",
            " 12  impact_video        2776 non-null   int64  \n",
            " 13  twitter retweets    2776 non-null   int64  \n",
            " 14  instagram likes     2776 non-null   int64  \n",
            " 15  sentiment_negative  2776 non-null   int64  \n",
            " 16  sentiment_neutral   2776 non-null   int64  \n",
            " 17  sentiment_positive  2776 non-null   int64  \n",
            " 18  full text           2776 non-null   object \n",
            " 19  hashtags            2776 non-null   object \n",
            " 20  media urls          2776 non-null   object \n",
            " 21  country             2776 non-null   object \n",
            " 22  category            2776 non-null   object \n",
            "dtypes: float64(2), int64(15), object(6)\n",
            "memory usage: 498.9+ KB\n"
          ]
        }
      ]
    },
    {
      "cell_type": "code",
      "source": [
        "##We want to see the columns which has atleast 2000 and above observations \n",
        "CMM = cf.dropna(axis='columns', thresh = 2000)"
      ],
      "metadata": {
        "id": "D27ZuIuSXxTP"
      },
      "execution_count": 23,
      "outputs": []
    },
    {
      "cell_type": "code",
      "source": [
        "# Drop the 'Unnamed: 0', 'full text', 'hashtags' and 'media urls' columns\n",
        "CMM.drop(['Unnamed: 0', 'full text', 'hashtags', 'media urls'], axis='columns', inplace=True)\n",
        "CMM.info()"
      ],
      "metadata": {
        "colab": {
          "base_uri": "https://localhost:8080/"
        },
        "id": "AoeU_mGRZBaP",
        "outputId": "7ee20f51-f388-4fb6-83a3-bc76eedeab4a"
      },
      "execution_count": 24,
      "outputs": [
        {
          "output_type": "stream",
          "name": "stdout",
          "text": [
            "<class 'pandas.core.frame.DataFrame'>\n",
            "RangeIndex: 2776 entries, 0 to 2775\n",
            "Data columns (total 18 columns):\n",
            " #   Column              Non-Null Count  Dtype  \n",
            "---  ------              --------------  -----  \n",
            " 0   Keywords            2776 non-null   object \n",
            " 1   Years               2776 non-null   int64  \n",
            " 2   Months              2776 non-null   int64  \n",
            " 3   impact_blog         2776 non-null   int64  \n",
            " 4   impact_forum        2776 non-null   int64  \n",
            " 5   impact_general      2776 non-null   int64  \n",
            " 6   impact_image        2557 non-null   float64\n",
            " 7   impact_news         2776 non-null   int64  \n",
            " 8   impact_review       2776 non-null   int64  \n",
            " 9   impact_twitter      2776 non-null   int64  \n",
            " 10  impact_video        2776 non-null   int64  \n",
            " 11  twitter retweets    2776 non-null   int64  \n",
            " 12  instagram likes     2776 non-null   int64  \n",
            " 13  sentiment_negative  2776 non-null   int64  \n",
            " 14  sentiment_neutral   2776 non-null   int64  \n",
            " 15  sentiment_positive  2776 non-null   int64  \n",
            " 16  country             2776 non-null   object \n",
            " 17  category            2776 non-null   object \n",
            "dtypes: float64(1), int64(14), object(3)\n",
            "memory usage: 390.5+ KB\n"
          ]
        },
        {
          "output_type": "stream",
          "name": "stderr",
          "text": [
            "/usr/local/lib/python3.7/dist-packages/pandas/core/frame.py:4174: SettingWithCopyWarning: \n",
            "A value is trying to be set on a copy of a slice from a DataFrame\n",
            "\n",
            "See the caveats in the documentation: https://pandas.pydata.org/pandas-docs/stable/user_guide/indexing.html#returning-a-view-versus-a-copy\n",
            "  errors=errors,\n"
          ]
        }
      ]
    },
    {
      "cell_type": "code",
      "source": [
        "#Verifying if we have any missing figures & Changing data type\n",
        "CMM1 = CMM.fillna(0)\n",
        "CMM1['impact_image'] = CMM1['impact_image'].astype('int')\n",
        "CMM1.info()"
      ],
      "metadata": {
        "colab": {
          "base_uri": "https://localhost:8080/"
        },
        "id": "KR5ZAEnVXxQn",
        "outputId": "4d058817-c4a4-4e5e-b5a3-bbd812858f47"
      },
      "execution_count": 25,
      "outputs": [
        {
          "output_type": "stream",
          "name": "stdout",
          "text": [
            "<class 'pandas.core.frame.DataFrame'>\n",
            "RangeIndex: 2776 entries, 0 to 2775\n",
            "Data columns (total 18 columns):\n",
            " #   Column              Non-Null Count  Dtype \n",
            "---  ------              --------------  ----- \n",
            " 0   Keywords            2776 non-null   object\n",
            " 1   Years               2776 non-null   int64 \n",
            " 2   Months              2776 non-null   int64 \n",
            " 3   impact_blog         2776 non-null   int64 \n",
            " 4   impact_forum        2776 non-null   int64 \n",
            " 5   impact_general      2776 non-null   int64 \n",
            " 6   impact_image        2776 non-null   int64 \n",
            " 7   impact_news         2776 non-null   int64 \n",
            " 8   impact_review       2776 non-null   int64 \n",
            " 9   impact_twitter      2776 non-null   int64 \n",
            " 10  impact_video        2776 non-null   int64 \n",
            " 11  twitter retweets    2776 non-null   int64 \n",
            " 12  instagram likes     2776 non-null   int64 \n",
            " 13  sentiment_negative  2776 non-null   int64 \n",
            " 14  sentiment_neutral   2776 non-null   int64 \n",
            " 15  sentiment_positive  2776 non-null   int64 \n",
            " 16  country             2776 non-null   object\n",
            " 17  category            2776 non-null   object\n",
            "dtypes: int64(15), object(3)\n",
            "memory usage: 390.5+ KB\n"
          ]
        }
      ]
    },
    {
      "cell_type": "code",
      "source": [
        "#taking all variables for test\n",
        "z_test = CMM1.drop(['country', 'category', 'Keywords'], axis=1)\n",
        "z_test.info()"
      ],
      "metadata": {
        "colab": {
          "base_uri": "https://localhost:8080/"
        },
        "id": "8ZhirY5A2HCj",
        "outputId": "11feb6f3-14eb-4fb3-a849-cd2685f907e5"
      },
      "execution_count": 26,
      "outputs": [
        {
          "output_type": "stream",
          "name": "stdout",
          "text": [
            "<class 'pandas.core.frame.DataFrame'>\n",
            "RangeIndex: 2776 entries, 0 to 2775\n",
            "Data columns (total 15 columns):\n",
            " #   Column              Non-Null Count  Dtype\n",
            "---  ------              --------------  -----\n",
            " 0   Years               2776 non-null   int64\n",
            " 1   Months              2776 non-null   int64\n",
            " 2   impact_blog         2776 non-null   int64\n",
            " 3   impact_forum        2776 non-null   int64\n",
            " 4   impact_general      2776 non-null   int64\n",
            " 5   impact_image        2776 non-null   int64\n",
            " 6   impact_news         2776 non-null   int64\n",
            " 7   impact_review       2776 non-null   int64\n",
            " 8   impact_twitter      2776 non-null   int64\n",
            " 9   impact_video        2776 non-null   int64\n",
            " 10  twitter retweets    2776 non-null   int64\n",
            " 11  instagram likes     2776 non-null   int64\n",
            " 12  sentiment_negative  2776 non-null   int64\n",
            " 13  sentiment_neutral   2776 non-null   int64\n",
            " 14  sentiment_positive  2776 non-null   int64\n",
            "dtypes: int64(15)\n",
            "memory usage: 325.4 KB\n"
          ]
        }
      ]
    },
    {
      "cell_type": "code",
      "source": [
        "#taking all variables and full data for test \n",
        "X = GMM4.drop(['trend', 'nontrend', 'country', 'category', 'Keywords'], axis=1)\n",
        "y = GMM4.trend\n",
        "\n",
        "print(f\"'X' shape: {X.shape}\")\n",
        "print(f\"'y' shape: {y.shape}\")"
      ],
      "metadata": {
        "colab": {
          "base_uri": "https://localhost:8080/"
        },
        "id": "uk9Y1aIs3XPd",
        "outputId": "bc90d57a-4a87-42c8-e725-67b725ce031d"
      },
      "execution_count": 27,
      "outputs": [
        {
          "output_type": "stream",
          "name": "stdout",
          "text": [
            "'X' shape: (7782, 15)\n",
            "'y' shape: (7782,)\n"
          ]
        }
      ]
    },
    {
      "cell_type": "code",
      "source": [
        "X_train = X\n",
        "y_train = y"
      ],
      "metadata": {
        "id": "Aglcm9Eo3ZNO"
      },
      "execution_count": 28,
      "outputs": []
    },
    {
      "cell_type": "code",
      "source": [
        "#Create New Model \n",
        "logreg1 = LogisticRegression(max_iter=3000)\n",
        "\n",
        "# fit the model with full data\n",
        "logreg1.fit(X_train,y_train)"
      ],
      "metadata": {
        "colab": {
          "base_uri": "https://localhost:8080/"
        },
        "id": "f8GsFIGp24kw",
        "outputId": "513624ef-79c4-4014-e5b2-aaca50c8724f"
      },
      "execution_count": 29,
      "outputs": [
        {
          "output_type": "execute_result",
          "data": {
            "text/plain": [
              "LogisticRegression(max_iter=3000)"
            ]
          },
          "metadata": {},
          "execution_count": 29
        }
      ]
    },
    {
      "cell_type": "code",
      "source": [
        "predictions = logreg1.predict(z_test)"
      ],
      "metadata": {
        "id": "11IGQWyK2_Cq"
      },
      "execution_count": 30,
      "outputs": []
    },
    {
      "cell_type": "code",
      "source": [
        "predictions1 = pd.DataFrame(predictions, columns=['trend'])\n",
        "predictions1.info()"
      ],
      "metadata": {
        "colab": {
          "base_uri": "https://localhost:8080/"
        },
        "id": "pDtBwwTB2HAC",
        "outputId": "d2c874da-0ba4-4d99-a277-628eca047488"
      },
      "execution_count": 31,
      "outputs": [
        {
          "output_type": "stream",
          "name": "stdout",
          "text": [
            "<class 'pandas.core.frame.DataFrame'>\n",
            "RangeIndex: 2776 entries, 0 to 2775\n",
            "Data columns (total 1 columns):\n",
            " #   Column  Non-Null Count  Dtype\n",
            "---  ------  --------------  -----\n",
            " 0   trend   2776 non-null   uint8\n",
            "dtypes: uint8(1)\n",
            "memory usage: 2.8 KB\n"
          ]
        }
      ]
    },
    {
      "cell_type": "code",
      "source": [
        "new_file = pd.concat([CMM1, predictions1], axis =1)\n",
        "new_file.info()"
      ],
      "metadata": {
        "colab": {
          "base_uri": "https://localhost:8080/"
        },
        "id": "hlIanR_s2G9d",
        "outputId": "7df2dcfb-4340-4348-aea9-8d35b4b2d44f"
      },
      "execution_count": 32,
      "outputs": [
        {
          "output_type": "stream",
          "name": "stdout",
          "text": [
            "<class 'pandas.core.frame.DataFrame'>\n",
            "RangeIndex: 2776 entries, 0 to 2775\n",
            "Data columns (total 19 columns):\n",
            " #   Column              Non-Null Count  Dtype \n",
            "---  ------              --------------  ----- \n",
            " 0   Keywords            2776 non-null   object\n",
            " 1   Years               2776 non-null   int64 \n",
            " 2   Months              2776 non-null   int64 \n",
            " 3   impact_blog         2776 non-null   int64 \n",
            " 4   impact_forum        2776 non-null   int64 \n",
            " 5   impact_general      2776 non-null   int64 \n",
            " 6   impact_image        2776 non-null   int64 \n",
            " 7   impact_news         2776 non-null   int64 \n",
            " 8   impact_review       2776 non-null   int64 \n",
            " 9   impact_twitter      2776 non-null   int64 \n",
            " 10  impact_video        2776 non-null   int64 \n",
            " 11  twitter retweets    2776 non-null   int64 \n",
            " 12  instagram likes     2776 non-null   int64 \n",
            " 13  sentiment_negative  2776 non-null   int64 \n",
            " 14  sentiment_neutral   2776 non-null   int64 \n",
            " 15  sentiment_positive  2776 non-null   int64 \n",
            " 16  country             2776 non-null   object\n",
            " 17  category            2776 non-null   object\n",
            " 18  trend               2776 non-null   uint8 \n",
            "dtypes: int64(15), object(3), uint8(1)\n",
            "memory usage: 393.2+ KB\n"
          ]
        }
      ]
    },
    {
      "cell_type": "code",
      "source": [
        "#To download the new trend file\n",
        "from google.colab import files\n",
        "new_file.to_csv('file_name_BR_LG.csv') \n",
        "files.download('file_name_BR_LG.csv')"
      ],
      "metadata": {
        "colab": {
          "base_uri": "https://localhost:8080/",
          "height": 17
        },
        "id": "-Le8fp6K2G4U",
        "outputId": "f0ead10b-372e-46c2-9721-9a450fdd4e54"
      },
      "execution_count": 33,
      "outputs": [
        {
          "output_type": "display_data",
          "data": {
            "application/javascript": [
              "\n",
              "    async function download(id, filename, size) {\n",
              "      if (!google.colab.kernel.accessAllowed) {\n",
              "        return;\n",
              "      }\n",
              "      const div = document.createElement('div');\n",
              "      const label = document.createElement('label');\n",
              "      label.textContent = `Downloading \"${filename}\": `;\n",
              "      div.appendChild(label);\n",
              "      const progress = document.createElement('progress');\n",
              "      progress.max = size;\n",
              "      div.appendChild(progress);\n",
              "      document.body.appendChild(div);\n",
              "\n",
              "      const buffers = [];\n",
              "      let downloaded = 0;\n",
              "\n",
              "      const channel = await google.colab.kernel.comms.open(id);\n",
              "      // Send a message to notify the kernel that we're ready.\n",
              "      channel.send({})\n",
              "\n",
              "      for await (const message of channel.messages) {\n",
              "        // Send a message to notify the kernel that we're ready.\n",
              "        channel.send({})\n",
              "        if (message.buffers) {\n",
              "          for (const buffer of message.buffers) {\n",
              "            buffers.push(buffer);\n",
              "            downloaded += buffer.byteLength;\n",
              "            progress.value = downloaded;\n",
              "          }\n",
              "        }\n",
              "      }\n",
              "      const blob = new Blob(buffers, {type: 'application/binary'});\n",
              "      const a = document.createElement('a');\n",
              "      a.href = window.URL.createObjectURL(blob);\n",
              "      a.download = filename;\n",
              "      div.appendChild(a);\n",
              "      a.click();\n",
              "      div.remove();\n",
              "    }\n",
              "  "
            ],
            "text/plain": [
              "<IPython.core.display.Javascript object>"
            ]
          },
          "metadata": {}
        },
        {
          "output_type": "display_data",
          "data": {
            "application/javascript": [
              "download(\"download_e4e86f23-f919-4c09-aa7e-397192d8c071\", \"file_name_BR_LG.csv\", 196782)"
            ],
            "text/plain": [
              "<IPython.core.display.Javascript object>"
            ]
          },
          "metadata": {}
        }
      ]
    },
    {
      "cell_type": "code",
      "source": [
        "#SO FAR SO GOOD HERE"
      ],
      "metadata": {
        "id": "TRex6t4K2G1y"
      },
      "execution_count": 34,
      "outputs": []
    },
    {
      "cell_type": "code",
      "source": [
        "new_file"
      ],
      "metadata": {
        "colab": {
          "base_uri": "https://localhost:8080/",
          "height": 765
        },
        "id": "3g690peG5sGO",
        "outputId": "56703b0e-5212-4689-e467-ae789273ab13"
      },
      "execution_count": 35,
      "outputs": [
        {
          "output_type": "execute_result",
          "data": {
            "text/html": [
              "\n",
              "  <div id=\"df-a6a02b8b-8f4d-4b7c-b912-e99fe0d2d551\">\n",
              "    <div class=\"colab-df-container\">\n",
              "      <div>\n",
              "<style scoped>\n",
              "    .dataframe tbody tr th:only-of-type {\n",
              "        vertical-align: middle;\n",
              "    }\n",
              "\n",
              "    .dataframe tbody tr th {\n",
              "        vertical-align: top;\n",
              "    }\n",
              "\n",
              "    .dataframe thead th {\n",
              "        text-align: right;\n",
              "    }\n",
              "</style>\n",
              "<table border=\"1\" class=\"dataframe\">\n",
              "  <thead>\n",
              "    <tr style=\"text-align: right;\">\n",
              "      <th></th>\n",
              "      <th>Keywords</th>\n",
              "      <th>Years</th>\n",
              "      <th>Months</th>\n",
              "      <th>impact_blog</th>\n",
              "      <th>impact_forum</th>\n",
              "      <th>impact_general</th>\n",
              "      <th>impact_image</th>\n",
              "      <th>impact_news</th>\n",
              "      <th>impact_review</th>\n",
              "      <th>impact_twitter</th>\n",
              "      <th>impact_video</th>\n",
              "      <th>twitter retweets</th>\n",
              "      <th>instagram likes</th>\n",
              "      <th>sentiment_negative</th>\n",
              "      <th>sentiment_neutral</th>\n",
              "      <th>sentiment_positive</th>\n",
              "      <th>country</th>\n",
              "      <th>category</th>\n",
              "      <th>trend</th>\n",
              "    </tr>\n",
              "  </thead>\n",
              "  <tbody>\n",
              "    <tr>\n",
              "      <th>0</th>\n",
              "      <td>Aloe vera cleanser</td>\n",
              "      <td>2015</td>\n",
              "      <td>9</td>\n",
              "      <td>0</td>\n",
              "      <td>0</td>\n",
              "      <td>0</td>\n",
              "      <td>0</td>\n",
              "      <td>0</td>\n",
              "      <td>0</td>\n",
              "      <td>49</td>\n",
              "      <td>0</td>\n",
              "      <td>0</td>\n",
              "      <td>0</td>\n",
              "      <td>0</td>\n",
              "      <td>0</td>\n",
              "      <td>1</td>\n",
              "      <td>BR</td>\n",
              "      <td>smallc</td>\n",
              "      <td>1</td>\n",
              "    </tr>\n",
              "    <tr>\n",
              "      <th>1</th>\n",
              "      <td>Aloe vera cleanser</td>\n",
              "      <td>2017</td>\n",
              "      <td>3</td>\n",
              "      <td>0</td>\n",
              "      <td>0</td>\n",
              "      <td>0</td>\n",
              "      <td>0</td>\n",
              "      <td>0</td>\n",
              "      <td>0</td>\n",
              "      <td>33</td>\n",
              "      <td>0</td>\n",
              "      <td>0</td>\n",
              "      <td>0</td>\n",
              "      <td>0</td>\n",
              "      <td>0</td>\n",
              "      <td>1</td>\n",
              "      <td>BR</td>\n",
              "      <td>smallc</td>\n",
              "      <td>1</td>\n",
              "    </tr>\n",
              "    <tr>\n",
              "      <th>2</th>\n",
              "      <td>Bee venom face cream</td>\n",
              "      <td>2016</td>\n",
              "      <td>2</td>\n",
              "      <td>0</td>\n",
              "      <td>0</td>\n",
              "      <td>0</td>\n",
              "      <td>0</td>\n",
              "      <td>0</td>\n",
              "      <td>0</td>\n",
              "      <td>42</td>\n",
              "      <td>0</td>\n",
              "      <td>0</td>\n",
              "      <td>0</td>\n",
              "      <td>0</td>\n",
              "      <td>1</td>\n",
              "      <td>0</td>\n",
              "      <td>BR</td>\n",
              "      <td>smallc</td>\n",
              "      <td>1</td>\n",
              "    </tr>\n",
              "    <tr>\n",
              "      <th>3</th>\n",
              "      <td>Bee venom face cream</td>\n",
              "      <td>2018</td>\n",
              "      <td>10</td>\n",
              "      <td>0</td>\n",
              "      <td>0</td>\n",
              "      <td>0</td>\n",
              "      <td>0</td>\n",
              "      <td>0</td>\n",
              "      <td>0</td>\n",
              "      <td>0</td>\n",
              "      <td>0</td>\n",
              "      <td>0</td>\n",
              "      <td>11</td>\n",
              "      <td>0</td>\n",
              "      <td>1</td>\n",
              "      <td>0</td>\n",
              "      <td>BR</td>\n",
              "      <td>smallc</td>\n",
              "      <td>1</td>\n",
              "    </tr>\n",
              "    <tr>\n",
              "      <th>4</th>\n",
              "      <td>Honey facial cleanser</td>\n",
              "      <td>2016</td>\n",
              "      <td>3</td>\n",
              "      <td>0</td>\n",
              "      <td>0</td>\n",
              "      <td>0</td>\n",
              "      <td>0</td>\n",
              "      <td>0</td>\n",
              "      <td>0</td>\n",
              "      <td>36</td>\n",
              "      <td>0</td>\n",
              "      <td>1</td>\n",
              "      <td>0</td>\n",
              "      <td>0</td>\n",
              "      <td>1</td>\n",
              "      <td>0</td>\n",
              "      <td>BR</td>\n",
              "      <td>smallc</td>\n",
              "      <td>1</td>\n",
              "    </tr>\n",
              "    <tr>\n",
              "      <th>...</th>\n",
              "      <td>...</td>\n",
              "      <td>...</td>\n",
              "      <td>...</td>\n",
              "      <td>...</td>\n",
              "      <td>...</td>\n",
              "      <td>...</td>\n",
              "      <td>...</td>\n",
              "      <td>...</td>\n",
              "      <td>...</td>\n",
              "      <td>...</td>\n",
              "      <td>...</td>\n",
              "      <td>...</td>\n",
              "      <td>...</td>\n",
              "      <td>...</td>\n",
              "      <td>...</td>\n",
              "      <td>...</td>\n",
              "      <td>...</td>\n",
              "      <td>...</td>\n",
              "      <td>...</td>\n",
              "    </tr>\n",
              "    <tr>\n",
              "      <th>2771</th>\n",
              "      <td>vegetable chips</td>\n",
              "      <td>2018</td>\n",
              "      <td>10</td>\n",
              "      <td>0</td>\n",
              "      <td>0</td>\n",
              "      <td>0</td>\n",
              "      <td>0</td>\n",
              "      <td>0</td>\n",
              "      <td>0</td>\n",
              "      <td>0</td>\n",
              "      <td>0</td>\n",
              "      <td>0</td>\n",
              "      <td>113</td>\n",
              "      <td>0</td>\n",
              "      <td>3</td>\n",
              "      <td>2</td>\n",
              "      <td>BR</td>\n",
              "      <td>smallc</td>\n",
              "      <td>1</td>\n",
              "    </tr>\n",
              "    <tr>\n",
              "      <th>2772</th>\n",
              "      <td>vegetable chips</td>\n",
              "      <td>2018</td>\n",
              "      <td>11</td>\n",
              "      <td>0</td>\n",
              "      <td>0</td>\n",
              "      <td>0</td>\n",
              "      <td>0</td>\n",
              "      <td>0</td>\n",
              "      <td>0</td>\n",
              "      <td>0</td>\n",
              "      <td>0</td>\n",
              "      <td>0</td>\n",
              "      <td>282</td>\n",
              "      <td>0</td>\n",
              "      <td>4</td>\n",
              "      <td>3</td>\n",
              "      <td>BR</td>\n",
              "      <td>smallc</td>\n",
              "      <td>1</td>\n",
              "    </tr>\n",
              "    <tr>\n",
              "      <th>2773</th>\n",
              "      <td>vegetable chips</td>\n",
              "      <td>2018</td>\n",
              "      <td>12</td>\n",
              "      <td>0</td>\n",
              "      <td>0</td>\n",
              "      <td>0</td>\n",
              "      <td>0</td>\n",
              "      <td>0</td>\n",
              "      <td>0</td>\n",
              "      <td>0</td>\n",
              "      <td>0</td>\n",
              "      <td>0</td>\n",
              "      <td>54</td>\n",
              "      <td>0</td>\n",
              "      <td>2</td>\n",
              "      <td>0</td>\n",
              "      <td>BR</td>\n",
              "      <td>smallc</td>\n",
              "      <td>1</td>\n",
              "    </tr>\n",
              "    <tr>\n",
              "      <th>2774</th>\n",
              "      <td>vegetable chips</td>\n",
              "      <td>2019</td>\n",
              "      <td>2</td>\n",
              "      <td>0</td>\n",
              "      <td>0</td>\n",
              "      <td>0</td>\n",
              "      <td>0</td>\n",
              "      <td>29</td>\n",
              "      <td>0</td>\n",
              "      <td>0</td>\n",
              "      <td>0</td>\n",
              "      <td>0</td>\n",
              "      <td>0</td>\n",
              "      <td>1</td>\n",
              "      <td>0</td>\n",
              "      <td>0</td>\n",
              "      <td>BR</td>\n",
              "      <td>smallc</td>\n",
              "      <td>1</td>\n",
              "    </tr>\n",
              "    <tr>\n",
              "      <th>2775</th>\n",
              "      <td>vegetable chips</td>\n",
              "      <td>2019</td>\n",
              "      <td>3</td>\n",
              "      <td>0</td>\n",
              "      <td>0</td>\n",
              "      <td>0</td>\n",
              "      <td>0</td>\n",
              "      <td>0</td>\n",
              "      <td>0</td>\n",
              "      <td>19</td>\n",
              "      <td>0</td>\n",
              "      <td>0</td>\n",
              "      <td>0</td>\n",
              "      <td>0</td>\n",
              "      <td>0</td>\n",
              "      <td>1</td>\n",
              "      <td>BR</td>\n",
              "      <td>smallc</td>\n",
              "      <td>1</td>\n",
              "    </tr>\n",
              "  </tbody>\n",
              "</table>\n",
              "<p>2776 rows × 19 columns</p>\n",
              "</div>\n",
              "      <button class=\"colab-df-convert\" onclick=\"convertToInteractive('df-a6a02b8b-8f4d-4b7c-b912-e99fe0d2d551')\"\n",
              "              title=\"Convert this dataframe to an interactive table.\"\n",
              "              style=\"display:none;\">\n",
              "        \n",
              "  <svg xmlns=\"http://www.w3.org/2000/svg\" height=\"24px\"viewBox=\"0 0 24 24\"\n",
              "       width=\"24px\">\n",
              "    <path d=\"M0 0h24v24H0V0z\" fill=\"none\"/>\n",
              "    <path d=\"M18.56 5.44l.94 2.06.94-2.06 2.06-.94-2.06-.94-.94-2.06-.94 2.06-2.06.94zm-11 1L8.5 8.5l.94-2.06 2.06-.94-2.06-.94L8.5 2.5l-.94 2.06-2.06.94zm10 10l.94 2.06.94-2.06 2.06-.94-2.06-.94-.94-2.06-.94 2.06-2.06.94z\"/><path d=\"M17.41 7.96l-1.37-1.37c-.4-.4-.92-.59-1.43-.59-.52 0-1.04.2-1.43.59L10.3 9.45l-7.72 7.72c-.78.78-.78 2.05 0 2.83L4 21.41c.39.39.9.59 1.41.59.51 0 1.02-.2 1.41-.59l7.78-7.78 2.81-2.81c.8-.78.8-2.07 0-2.86zM5.41 20L4 18.59l7.72-7.72 1.47 1.35L5.41 20z\"/>\n",
              "  </svg>\n",
              "      </button>\n",
              "      \n",
              "  <style>\n",
              "    .colab-df-container {\n",
              "      display:flex;\n",
              "      flex-wrap:wrap;\n",
              "      gap: 12px;\n",
              "    }\n",
              "\n",
              "    .colab-df-convert {\n",
              "      background-color: #E8F0FE;\n",
              "      border: none;\n",
              "      border-radius: 50%;\n",
              "      cursor: pointer;\n",
              "      display: none;\n",
              "      fill: #1967D2;\n",
              "      height: 32px;\n",
              "      padding: 0 0 0 0;\n",
              "      width: 32px;\n",
              "    }\n",
              "\n",
              "    .colab-df-convert:hover {\n",
              "      background-color: #E2EBFA;\n",
              "      box-shadow: 0px 1px 2px rgba(60, 64, 67, 0.3), 0px 1px 3px 1px rgba(60, 64, 67, 0.15);\n",
              "      fill: #174EA6;\n",
              "    }\n",
              "\n",
              "    [theme=dark] .colab-df-convert {\n",
              "      background-color: #3B4455;\n",
              "      fill: #D2E3FC;\n",
              "    }\n",
              "\n",
              "    [theme=dark] .colab-df-convert:hover {\n",
              "      background-color: #434B5C;\n",
              "      box-shadow: 0px 1px 3px 1px rgba(0, 0, 0, 0.15);\n",
              "      filter: drop-shadow(0px 1px 2px rgba(0, 0, 0, 0.3));\n",
              "      fill: #FFFFFF;\n",
              "    }\n",
              "  </style>\n",
              "\n",
              "      <script>\n",
              "        const buttonEl =\n",
              "          document.querySelector('#df-a6a02b8b-8f4d-4b7c-b912-e99fe0d2d551 button.colab-df-convert');\n",
              "        buttonEl.style.display =\n",
              "          google.colab.kernel.accessAllowed ? 'block' : 'none';\n",
              "\n",
              "        async function convertToInteractive(key) {\n",
              "          const element = document.querySelector('#df-a6a02b8b-8f4d-4b7c-b912-e99fe0d2d551');\n",
              "          const dataTable =\n",
              "            await google.colab.kernel.invokeFunction('convertToInteractive',\n",
              "                                                     [key], {});\n",
              "          if (!dataTable) return;\n",
              "\n",
              "          const docLinkHtml = 'Like what you see? Visit the ' +\n",
              "            '<a target=\"_blank\" href=https://colab.research.google.com/notebooks/data_table.ipynb>data table notebook</a>'\n",
              "            + ' to learn more about interactive tables.';\n",
              "          element.innerHTML = '';\n",
              "          dataTable['output_type'] = 'display_data';\n",
              "          await google.colab.output.renderOutput(dataTable, element);\n",
              "          const docLink = document.createElement('div');\n",
              "          docLink.innerHTML = docLinkHtml;\n",
              "          element.appendChild(docLink);\n",
              "        }\n",
              "      </script>\n",
              "    </div>\n",
              "  </div>\n",
              "  "
            ],
            "text/plain": [
              "                   Keywords  Years  Months  ...  country  category  trend\n",
              "0        Aloe vera cleanser   2015       9  ...       BR    smallc      1\n",
              "1        Aloe vera cleanser   2017       3  ...       BR    smallc      1\n",
              "2      Bee venom face cream   2016       2  ...       BR    smallc      1\n",
              "3      Bee venom face cream   2018      10  ...       BR    smallc      1\n",
              "4     Honey facial cleanser   2016       3  ...       BR    smallc      1\n",
              "...                     ...    ...     ...  ...      ...       ...    ...\n",
              "2771        vegetable chips   2018      10  ...       BR    smallc      1\n",
              "2772        vegetable chips   2018      11  ...       BR    smallc      1\n",
              "2773        vegetable chips   2018      12  ...       BR    smallc      1\n",
              "2774        vegetable chips   2019       2  ...       BR    smallc      1\n",
              "2775        vegetable chips   2019       3  ...       BR    smallc      1\n",
              "\n",
              "[2776 rows x 19 columns]"
            ]
          },
          "metadata": {},
          "execution_count": 35
        }
      ]
    },
    {
      "cell_type": "code",
      "source": [
        "all_model_BR = new_file.groupby(['Keywords'])['trend'].agg(pd.Series.mode).reset_index()"
      ],
      "metadata": {
        "id": "D7nEwGxd-Lsx"
      },
      "execution_count": 38,
      "outputs": []
    },
    {
      "cell_type": "code",
      "source": [
        "all_model_BR.info()"
      ],
      "metadata": {
        "colab": {
          "base_uri": "https://localhost:8080/"
        },
        "id": "DQYdiNrd5ymj",
        "outputId": "af75eb88-5422-4eeb-8f6f-6115db63ca9c"
      },
      "execution_count": 40,
      "outputs": [
        {
          "output_type": "stream",
          "name": "stdout",
          "text": [
            "<class 'pandas.core.frame.DataFrame'>\n",
            "RangeIndex: 68 entries, 0 to 67\n",
            "Data columns (total 2 columns):\n",
            " #   Column    Non-Null Count  Dtype \n",
            "---  ------    --------------  ----- \n",
            " 0   Keywords  68 non-null     object\n",
            " 1   trend     68 non-null     uint8 \n",
            "dtypes: object(1), uint8(1)\n",
            "memory usage: 740.0+ bytes\n"
          ]
        }
      ]
    },
    {
      "cell_type": "code",
      "source": [
        "from google.colab import files\n",
        "all_model_BR.to_csv('all_model_BR.csv') \n",
        "files.download('all_model_BR.csv')"
      ],
      "metadata": {
        "colab": {
          "base_uri": "https://localhost:8080/",
          "height": 17
        },
        "id": "Q5HlzuQ6uDl4",
        "outputId": "d6e60fe8-135a-49fd-ec35-c0f8cf58e0fc"
      },
      "execution_count": 41,
      "outputs": [
        {
          "output_type": "display_data",
          "data": {
            "application/javascript": [
              "\n",
              "    async function download(id, filename, size) {\n",
              "      if (!google.colab.kernel.accessAllowed) {\n",
              "        return;\n",
              "      }\n",
              "      const div = document.createElement('div');\n",
              "      const label = document.createElement('label');\n",
              "      label.textContent = `Downloading \"${filename}\": `;\n",
              "      div.appendChild(label);\n",
              "      const progress = document.createElement('progress');\n",
              "      progress.max = size;\n",
              "      div.appendChild(progress);\n",
              "      document.body.appendChild(div);\n",
              "\n",
              "      const buffers = [];\n",
              "      let downloaded = 0;\n",
              "\n",
              "      const channel = await google.colab.kernel.comms.open(id);\n",
              "      // Send a message to notify the kernel that we're ready.\n",
              "      channel.send({})\n",
              "\n",
              "      for await (const message of channel.messages) {\n",
              "        // Send a message to notify the kernel that we're ready.\n",
              "        channel.send({})\n",
              "        if (message.buffers) {\n",
              "          for (const buffer of message.buffers) {\n",
              "            buffers.push(buffer);\n",
              "            downloaded += buffer.byteLength;\n",
              "            progress.value = downloaded;\n",
              "          }\n",
              "        }\n",
              "      }\n",
              "      const blob = new Blob(buffers, {type: 'application/binary'});\n",
              "      const a = document.createElement('a');\n",
              "      a.href = window.URL.createObjectURL(blob);\n",
              "      a.download = filename;\n",
              "      div.appendChild(a);\n",
              "      a.click();\n",
              "      div.remove();\n",
              "    }\n",
              "  "
            ],
            "text/plain": [
              "<IPython.core.display.Javascript object>"
            ]
          },
          "metadata": {}
        },
        {
          "output_type": "display_data",
          "data": {
            "application/javascript": [
              "download(\"download_81718123-3ef8-4f7d-9941-2c0a0005fa1e\", \"all_model_BR.csv\", 1157)"
            ],
            "text/plain": [
              "<IPython.core.display.Javascript object>"
            ]
          },
          "metadata": {}
        }
      ]
    },
    {
      "cell_type": "markdown",
      "source": [
        "**That's all folks** Please note this is only one way method to get task done. Please if possible try to change where possible I put comments for you."
      ],
      "metadata": {
        "id": "gUA4RUDLLvzn"
      }
    },
    {
      "cell_type": "code",
      "source": [
        ""
      ],
      "metadata": {
        "id": "cY9WWdm468i_"
      },
      "execution_count": null,
      "outputs": []
    }
  ]
}